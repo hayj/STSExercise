{
 "cells": [
  {
   "cell_type": "code",
   "execution_count": null,
   "metadata": {},
   "outputs": [],
   "source": [
    "from systemtools.basics import *\n",
    "from systemtools.location import *\n",
    "from systemtools.file import *\n",
    "from systemtools.system import *"
   ]
  },
  {
   "cell_type": "code",
   "execution_count": null,
   "metadata": {},
   "outputs": [],
   "source": []
  },
  {
   "cell_type": "code",
   "execution_count": null,
   "metadata": {},
   "outputs": [],
   "source": []
  },
  {
   "cell_type": "code",
   "execution_count": null,
   "metadata": {},
   "outputs": [],
   "source": [
    "inputs = sortedGlob(\"/home/hayj/Downloads/test_evaluation_task2a/STS.input*.txt\")"
   ]
  },
  {
   "cell_type": "code",
   "execution_count": null,
   "metadata": {},
   "outputs": [],
   "source": [
    "inputs"
   ]
  },
  {
   "cell_type": "code",
   "execution_count": null,
   "metadata": {},
   "outputs": [],
   "source": [
    "goldStandards = sortedGlob(\"/home/hayj/Downloads/test_evaluation_task2a/STS.gs*.txt\")"
   ]
  },
  {
   "cell_type": "code",
   "execution_count": null,
   "metadata": {},
   "outputs": [],
   "source": [
    "goldStandards"
   ]
  },
  {
   "cell_type": "code",
   "execution_count": null,
   "metadata": {},
   "outputs": [],
   "source": [
    "for i in range(len(inputs)):\n",
    "    inputPath = inputs[i]\n",
    "    gsPath = goldStandards[i]\n",
    "    currentData = []\n",
    "    currentPath = inputPath + \"2\"\n",
    "    inputData = fileToStrList(inputPath, skipBlank=False)\n",
    "    gsData = fileToStrList(gsPath, skipBlank=False)\n",
    "    for u in range(len(inputData)):\n",
    "        score = gsData[u]\n",
    "        score = score.strip()\n",
    "        pair = inputData[u]\n",
    "        pair = pair.strip()\n",
    "        if len(score) > 0 and len(pair) > 0:\n",
    "            currentData.append(score + \"\\t\" + pair)\n",
    "    strListToFile(currentData, currentPath)"
   ]
  },
  {
   "cell_type": "code",
   "execution_count": null,
   "metadata": {},
   "outputs": [],
   "source": []
  }
 ],
 "metadata": {
  "kernelspec": {
   "display_name": "Python 3",
   "language": "python",
   "name": "python3"
  },
  "language_info": {
   "codemirror_mode": {
    "name": "ipython",
    "version": 3
   },
   "file_extension": ".py",
   "mimetype": "text/x-python",
   "name": "python",
   "nbconvert_exporter": "python",
   "pygments_lexer": "ipython3",
   "version": "3.6.6"
  }
 },
 "nbformat": 4,
 "nbformat_minor": 2
}
